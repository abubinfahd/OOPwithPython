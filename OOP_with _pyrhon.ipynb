{
  "nbformat": 4,
  "nbformat_minor": 0,
  "metadata": {
    "colab": {
      "provenance": []
    },
    "kernelspec": {
      "name": "python3",
      "display_name": "Python 3"
    },
    "language_info": {
      "name": "python"
    }
  },
  "cells": [
    {
      "cell_type": "code",
      "source": [
        "# Default Constractor\n",
        "class Employee():\n",
        "  pass\n",
        "\n",
        "e1 = Employee()\n",
        "print(e1)"
      ],
      "metadata": {
        "colab": {
          "base_uri": "https://localhost:8080/"
        },
        "id": "KLS5Uwv5xzWu",
        "outputId": "680a5198-d02f-4196-88c6-4d572010910b"
      },
      "execution_count": null,
      "outputs": [
        {
          "output_type": "stream",
          "name": "stdout",
          "text": [
            "<__main__.Employee object at 0x7cb562712cb0>\n"
          ]
        }
      ]
    },
    {
      "cell_type": "code",
      "execution_count": null,
      "metadata": {
        "colab": {
          "base_uri": "https://localhost:8080/"
        },
        "id": "pwvAU61rrOxI",
        "outputId": "ab3373ce-1426-4260-f3d8-51b6b951370b"
      },
      "outputs": [
        {
          "output_type": "stream",
          "name": "stdout",
          "text": [
            "Hi ABF\n",
            "<__main__.Student object at 0x7cb562713700>\n"
          ]
        }
      ],
      "source": [
        "# Default Constractor\n",
        "class Student():\n",
        "\n",
        "  def __init__(self):\n",
        "    print(\"Hi ABF\")\n",
        "\n",
        "s1 = Student()\n",
        "print(s1)"
      ]
    },
    {
      "cell_type": "markdown",
      "source": [
        "Call Constractor"
      ],
      "metadata": {
        "id": "45Dy92V_vJGg"
      }
    },
    {
      "cell_type": "code",
      "source": [
        "# Parametarized Constractor\n",
        "class Student():\n",
        "\n",
        "  def __init__(self, name):\n",
        "    self.name = name # instance variable\n",
        "\n",
        "s1 = Student(\"ABF\") # instance 1\n",
        "print(s1.name)\n",
        "\n",
        "s2 = Student(\"ABF 2\") # instance 2\n",
        "print(s2.name)"
      ],
      "metadata": {
        "colab": {
          "base_uri": "https://localhost:8080/"
        },
        "id": "RncZnOKRvOTU",
        "outputId": "5b95b59f-1342-4eeb-fee4-3f85b6f38052"
      },
      "execution_count": null,
      "outputs": [
        {
          "output_type": "stream",
          "name": "stdout",
          "text": [
            "ABF\n",
            "ABF 2\n"
          ]
        }
      ]
    },
    {
      "cell_type": "markdown",
      "source": [
        "### Class Design"
      ],
      "metadata": {
        "id": "EsOVwlI1zcJq"
      }
    },
    {
      "cell_type": "code",
      "source": [
        "# Parametarized Constractor\n",
        "class Student():\n",
        "\n",
        "  def __init__(self, name, id):\n",
        "    self.name = name  # instance variable\n",
        "    self.id = id      # instance variable\n",
        "\n",
        "  def display(self):            # instance method\n",
        "    print(\"Name:\", self.name)\n",
        "    print(\"ID:\", self.id)\n",
        "\n",
        "s1 = Student(\"ABF\", 40)   # instance 1\n",
        "s1.display()\n",
        "\n",
        "s2 = Student(\"ABF2\", 13) # instance 2\n",
        "s2.display()"
      ],
      "metadata": {
        "colab": {
          "base_uri": "https://localhost:8080/"
        },
        "id": "keC1o9YazUCd",
        "outputId": "4d34bda6-87b6-4f40-d433-92f134404d1d"
      },
      "execution_count": null,
      "outputs": [
        {
          "output_type": "stream",
          "name": "stdout",
          "text": [
            "Name: ABF\n",
            "ID: 40\n",
            "Name: ABF2\n",
            "ID: 13\n"
          ]
        }
      ]
    },
    {
      "cell_type": "markdown",
      "source": [
        "First create object then call method!"
      ],
      "metadata": {
        "id": "aQA3gFeu0mIa"
      }
    },
    {
      "cell_type": "code",
      "source": [
        "class House():\n",
        "\n",
        "  def __init__(self):\n",
        "    self.windows = 4  # instance variable\n",
        "    self.doors = 2    # instance variable\n",
        "\n",
        "  def view(self):\n",
        "    print(self.windows, \"Windows\", self.doors, \"Doors\")\n",
        "\n",
        "h1 = House()\n",
        "h2 = House()\n",
        "\n",
        "h1.view()\n",
        "h2.view()"
      ],
      "metadata": {
        "id": "mNXZZWZe0rPs",
        "colab": {
          "base_uri": "https://localhost:8080/"
        },
        "outputId": "9fbad2a0-8a92-4b89-9f2e-a4c83196a611"
      },
      "execution_count": null,
      "outputs": [
        {
          "output_type": "stream",
          "name": "stdout",
          "text": [
            "4 Windows 2 Doors\n",
            "4 Windows 2 Doors\n"
          ]
        }
      ]
    },
    {
      "cell_type": "code",
      "source": [
        "class House():\n",
        "\n",
        "  def __init__(self):\n",
        "    self.windows = 4\n",
        "    self.doors = 2\n",
        "\n",
        "  def view(self):\n",
        "    print(self.windows, \"Windows\", self.doors, \"Doors\")\n",
        "\n",
        "h1 = House()\n",
        "h2 = House()\n",
        "\n",
        "h1.windows = 5  # change default\n",
        "h2.doors = 3    # change default\n",
        "\n",
        "h1.view()\n",
        "h2.view()"
      ],
      "metadata": {
        "colab": {
          "base_uri": "https://localhost:8080/"
        },
        "id": "OWYQe0Ga2Xe4",
        "outputId": "4493463a-00dd-4983-845c-3716f2793f77"
      },
      "execution_count": null,
      "outputs": [
        {
          "output_type": "stream",
          "name": "stdout",
          "text": [
            "5 Windows 2 Doors\n",
            "4 Windows 3 Doors\n"
          ]
        }
      ]
    },
    {
      "cell_type": "code",
      "source": [
        "class Car():\n",
        "\n",
        "  def __init__(self, name, model):\n",
        "    self.name = name\n",
        "    self.model = model\n",
        "    self.wheel = 4\n",
        "\n",
        "  def view(self):               # instance method\n",
        "    print(self.name, self.model)\n",
        "    print(\"It has default\", self.wheel, \"wheel\")\n",
        "\n",
        "c1 = Car(\"RR\", 2017)\n",
        "c1.view()"
      ],
      "metadata": {
        "colab": {
          "base_uri": "https://localhost:8080/"
        },
        "id": "hBBNjZMt2oui",
        "outputId": "7a5009f7-251c-4eba-fbaa-7f68ccc5df4f"
      },
      "execution_count": null,
      "outputs": [
        {
          "output_type": "stream",
          "name": "stdout",
          "text": [
            "RR 2017\n",
            "It has default 4 wheel\n"
          ]
        }
      ]
    },
    {
      "cell_type": "code",
      "source": [
        "c1.__dict__"
      ],
      "metadata": {
        "colab": {
          "base_uri": "https://localhost:8080/"
        },
        "id": "7-iS5bcE8qeg",
        "outputId": "acd2067e-0919-4eb9-dcb4-f9d0692fa49b"
      },
      "execution_count": null,
      "outputs": [
        {
          "output_type": "execute_result",
          "data": {
            "text/plain": [
              "{'name': 'RR', 'model': 2017, 'wheel': 4}"
            ]
          },
          "metadata": {},
          "execution_count": 10
        }
      ]
    },
    {
      "cell_type": "code",
      "source": [
        "dir(c1)"
      ],
      "metadata": {
        "colab": {
          "base_uri": "https://localhost:8080/"
        },
        "id": "XL_I4nSi8xFE",
        "outputId": "25a49285-952c-4506-f79e-7ff01674a3c7"
      },
      "execution_count": null,
      "outputs": [
        {
          "output_type": "execute_result",
          "data": {
            "text/plain": [
              "['__class__',\n",
              " '__delattr__',\n",
              " '__dict__',\n",
              " '__dir__',\n",
              " '__doc__',\n",
              " '__eq__',\n",
              " '__format__',\n",
              " '__ge__',\n",
              " '__getattribute__',\n",
              " '__gt__',\n",
              " '__hash__',\n",
              " '__init__',\n",
              " '__init_subclass__',\n",
              " '__le__',\n",
              " '__lt__',\n",
              " '__module__',\n",
              " '__ne__',\n",
              " '__new__',\n",
              " '__reduce__',\n",
              " '__reduce_ex__',\n",
              " '__repr__',\n",
              " '__setattr__',\n",
              " '__sizeof__',\n",
              " '__str__',\n",
              " '__subclasshook__',\n",
              " '__weakref__',\n",
              " 'model',\n",
              " 'name',\n",
              " 'view',\n",
              " 'wheel']"
            ]
          },
          "metadata": {},
          "execution_count": 12
        }
      ]
    },
    {
      "cell_type": "code",
      "source": [
        "class Dog():\n",
        "\n",
        "  def __init__(self, name, color):\n",
        "    self.name, self.color = name, color\n",
        "\n",
        "  def update_color(self, color):\n",
        "    self.color = color\n",
        "\n",
        "  def view(self):\n",
        "    print(\"Name:\", self.name, \",\", \"Color:\", self.color)\n",
        "\n",
        "d1 = Dog(\"Tommy\", \"Brown\")\n",
        "d1.view()\n",
        "d1.update_color(\"White\")\n",
        "d1.view()"
      ],
      "metadata": {
        "colab": {
          "base_uri": "https://localhost:8080/"
        },
        "id": "VTf9GlwO_0sm",
        "outputId": "c4b4b011-1e24-4f1a-e0cd-3e2df172a971"
      },
      "execution_count": null,
      "outputs": [
        {
          "output_type": "stream",
          "name": "stdout",
          "text": [
            "Name: Tommy , Color: Brown\n",
            "Name: Tommy , Color: White\n"
          ]
        }
      ]
    },
    {
      "cell_type": "code",
      "source": [
        "# Pass by Reference\n",
        "class Cat():\n",
        "  def __init__(self, color, action):\n",
        "    self.color = color\n",
        "    self.action = action\n",
        "\n",
        "  def view(self):\n",
        "    print(\"Color:\", self.color, \",\", \"Action:\", self.action)\n",
        "\n",
        "  def compare(self, ct):\n",
        "    if self.action == ct.action:\n",
        "      print(\"Same action\")\n",
        "    else:\n",
        "      print(\"Different action\")\n",
        "\n",
        "#============================================================================\n",
        "\n",
        "c1 = Cat(\"White\", \"Eating\")\n",
        "c2 = Cat(\"Brown\", \"Rubbing\")\n",
        "c1.view()\n",
        "c2.view()\n",
        "\n",
        "c1.compare(c2)"
      ],
      "metadata": {
        "colab": {
          "base_uri": "https://localhost:8080/"
        },
        "id": "55zpwV0jiz0l",
        "outputId": "1f0fc693-f849-4a7c-edfd-fe1977fb301d"
      },
      "execution_count": null,
      "outputs": [
        {
          "output_type": "stream",
          "name": "stdout",
          "text": [
            "Color: White , Action: Eating\n",
            "Color: Brown , Action: Rubbing\n",
            "Different action\n"
          ]
        }
      ]
    },
    {
      "cell_type": "code",
      "source": [
        "# Pass by value\n",
        "class Cat():\n",
        "  def __init__(self, color, action):\n",
        "    self.color = color\n",
        "    self.action = action\n",
        "\n",
        "  def view(self, num, clr):\n",
        "    num += 5\n",
        "    clr1 = clr\n",
        "    clr1[0] = \"Green\"\n",
        "    print(\"Colors:\", clr)\n",
        "    print(\"Number:\", num)\n",
        "\n",
        "#============================================================================\n",
        "colors = [\"Black\", \"Red\", \"Yellow\", \"Blue\"]\n",
        "c1 = Cat(\"White\", \"Eating\")\n",
        "x = 55\n",
        "c1.view(x, colors)\n",
        "print(\"Method outside:\", colors)\n",
        "print(\"Method outside:\", x)"
      ],
      "metadata": {
        "colab": {
          "base_uri": "https://localhost:8080/"
        },
        "id": "sSK_qnSdlWR-",
        "outputId": "87497ccc-2ea7-4242-f71b-d833d310cf03"
      },
      "execution_count": null,
      "outputs": [
        {
          "output_type": "stream",
          "name": "stdout",
          "text": [
            "Colors: ['Green', 'Red', 'Yellow', 'Blue']\n",
            "Number: 60\n",
            "Method outside: ['Green', 'Red', 'Yellow', 'Blue']\n",
            "Method outside: 55\n"
          ]
        }
      ]
    },
    {
      "cell_type": "markdown",
      "source": [
        "Here, <br>\n",
        "x (pass by value), <br>\n",
        "colors (pass by reference)."
      ],
      "metadata": {
        "id": "XVcWbFxeoza5"
      }
    },
    {
      "cell_type": "code",
      "source": [
        "# Problem 01\n",
        "\n",
        "class Test3:\n",
        "  def __init__(self):\n",
        "    self.sum, self.y = 0, 0\n",
        "\n",
        "  def methodA(self):\n",
        "    x, y = 2, 3\n",
        "    msg = [0]\n",
        "    y = self.y + msg[0]\n",
        "    self.methodB(msg, msg[0])\n",
        "    x = self.y + msg[0]\n",
        "    self.sum = x + y + msg[0]\n",
        "    print(x, y, self.sum)\n",
        "\n",
        "  def methodB(self, mg2, mg1):\n",
        "    x = 0\n",
        "    self.y = self.y + mg2[0]\n",
        "    x = x + 33 + mg1\n",
        "    self.sum = self.sum + x + self.y\n",
        "    mg2[0] = self.y + mg1\n",
        "    mg1 = mg1 + x + 2\n",
        "    print(x, self.y, self.sum)\n",
        "\n",
        "t3 = Test3()\n",
        "t3.methodA()"
      ],
      "metadata": {
        "colab": {
          "base_uri": "https://localhost:8080/"
        },
        "id": "6b0_ETM34FUs",
        "outputId": "63282398-2bf9-49cd-ead0-d3b5af2aa135"
      },
      "execution_count": null,
      "outputs": [
        {
          "output_type": "stream",
          "name": "stdout",
          "text": [
            "33 0 33\n",
            "0 0 0\n"
          ]
        }
      ]
    },
    {
      "cell_type": "markdown",
      "source": [
        "### Methos Overloading\n",
        "- Same name different parameters\n",
        "- Python donot support methos overloading"
      ],
      "metadata": {
        "id": "-JRLDJjYftxp"
      }
    },
    {
      "cell_type": "code",
      "source": [
        "class my_calculator():\n",
        "\n",
        "  def product(self, num1, num2):\n",
        "    print(num1 * num2)\n",
        "#----------------------------------------------\n",
        "\n",
        "c1 = my_calculator()\n",
        "c1.product(4, 5)"
      ],
      "metadata": {
        "colab": {
          "base_uri": "https://localhost:8080/"
        },
        "id": "317Bmzw5fwNw",
        "outputId": "d78d7328-4ad3-4075-ad89-c2b3ad07da57"
      },
      "execution_count": null,
      "outputs": [
        {
          "output_type": "stream",
          "name": "stdout",
          "text": [
            "20\n"
          ]
        }
      ]
    },
    {
      "cell_type": "code",
      "source": [
        "# # run the code and understand the error\n",
        "# class my_calculator():\n",
        "\n",
        "#   def product(self, num1, num2):\n",
        "#     print(num1 * num2)\n",
        "\n",
        "#   def product(self, num1, num2, num3):\n",
        "#     print(num1 * num2 * num3)\n",
        "# #----------------------------------------------\n",
        "\n",
        "# c1 = my_calculator()\n",
        "# c1.product(4, 5)\n",
        "# c1.product(4, 5, 3)"
      ],
      "metadata": {
        "id": "P3PBDA8Vg3FD"
      },
      "execution_count": null,
      "outputs": []
    },
    {
      "cell_type": "markdown",
      "source": [
        "At a time two method didn't work!!!"
      ],
      "metadata": {
        "id": "fcM6Cp4fiZfo"
      }
    },
    {
      "cell_type": "code",
      "source": [
        "# Methos overloading achieve\n",
        "class my_calculator():\n",
        "\n",
        "  def product(self, num1=None, num2=None, num3=None):\n",
        "    if num1 != None and num2 != None and num3 != None:\n",
        "      print(num1 * num2 * num3)\n",
        "    elif num1 != None and num2 != None:\n",
        "      print(num1 * num2)\n",
        "    else:\n",
        "      print(1*num1)\n",
        "#----------------------------------------------\n",
        "\n",
        "c1 = my_calculator()\n",
        "c1.product(4)\n",
        "c1.product(4, 5)\n",
        "c1.product(4, 5, 3)"
      ],
      "metadata": {
        "colab": {
          "base_uri": "https://localhost:8080/"
        },
        "id": "qZ4kgb2ShFMj",
        "outputId": "2a3b3afc-60fa-4675-8996-85483c916b82"
      },
      "execution_count": null,
      "outputs": [
        {
          "output_type": "stream",
          "name": "stdout",
          "text": [
            "4\n",
            "20\n",
            "60\n"
          ]
        }
      ]
    },
    {
      "cell_type": "markdown",
      "source": [
        "All are working!!!"
      ],
      "metadata": {
        "id": "XIf7gYEtiWeS"
      }
    },
    {
      "cell_type": "code",
      "source": [
        "# What if more than 3?\n",
        "class my_calculator():\n",
        "\n",
        "  def product(self, *nums):  # *nums takes all the numbers you provide\n",
        "    sum = 1\n",
        "    #print(nums)\n",
        "    for i in nums:\n",
        "      sum = sum * i\n",
        "    print(sum)\n",
        "#------------------------------------------------\n",
        "\n",
        "c1 = my_calculator()\n",
        "c1.product(4)\n",
        "c1.product(4, 5, 6, 8)\n",
        "c1.product(4, 5, 3, 2, 2)"
      ],
      "metadata": {
        "colab": {
          "base_uri": "https://localhost:8080/"
        },
        "id": "5Ky7k0udiw4I",
        "outputId": "82d99fd1-f5c9-4968-90df-5a8d0c1cf933"
      },
      "execution_count": null,
      "outputs": [
        {
          "output_type": "stream",
          "name": "stdout",
          "text": [
            "4\n",
            "960\n",
            "240\n"
          ]
        }
      ]
    },
    {
      "cell_type": "code",
      "source": [
        "# Same name multiple methos but different parameers\n",
        "from multipledispatch import dispatch\n",
        "\n",
        "class my_calculator():\n",
        "\n",
        "  @dispatch(int, int) # str / float\n",
        "  def product(self, a, b):\n",
        "    print(a * b)\n",
        "\n",
        "  @dispatch(int, int, int)\n",
        "  def product(self, a, b, c):\n",
        "    print(a * b * c)\n",
        "#====================================================\n",
        "\n",
        "c1 = my_calculator()\n",
        "c1.product(4, 5)\n",
        "c1.product(4, 5, 3)"
      ],
      "metadata": {
        "colab": {
          "base_uri": "https://localhost:8080/"
        },
        "id": "aag_nl7jlZic",
        "outputId": "d89d0ae7-880e-4b45-fd73-d3bf101d65e9"
      },
      "execution_count": null,
      "outputs": [
        {
          "output_type": "stream",
          "name": "stdout",
          "text": [
            "20\n",
            "60\n"
          ]
        }
      ]
    },
    {
      "cell_type": "markdown",
      "source": [
        "Same methods now working through @dispatch"
      ],
      "metadata": {
        "id": "o_TnuYTwnB88"
      }
    },
    {
      "cell_type": "markdown",
      "source": [
        "### Operator Overloading: Comparison"
      ],
      "metadata": {
        "id": "aBFLfFd2YWOh"
      }
    },
    {
      "cell_type": "code",
      "source": [
        "class Customer():\n",
        "  def __init__(self, name, balance):\n",
        "    self.name, self.balance = name, balance\n",
        "#-----------------------------------------------------------\n",
        "\n",
        "c1 = Customer(\"Rifat\", 000)\n",
        "c2 = Customer(\"Rifat\", 000)\n",
        "c1 == c2"
      ],
      "metadata": {
        "id": "NGsSpRfEnHlH",
        "colab": {
          "base_uri": "https://localhost:8080/"
        },
        "outputId": "1f65382a-c2c9-464a-8cb7-6bac4d216126"
      },
      "execution_count": null,
      "outputs": [
        {
          "output_type": "execute_result",
          "data": {
            "text/plain": [
              "False"
            ]
          },
          "metadata": {},
          "execution_count": 1
        }
      ]
    },
    {
      "cell_type": "code",
      "source": [
        "# Objec Equality\n",
        "class Customer():\n",
        "  def __init__(self, name, balance, id):\n",
        "    self.name, self.balance = name, balance\n",
        "    self.id = id\n",
        "#-----------------------------------------------------------\n",
        "\n",
        "c1 = Customer(\"Rifat\", 000, 192040)\n",
        "c2 = Customer(\"Rifat\", 000, 192040)\n",
        "c1 == c2"
      ],
      "metadata": {
        "colab": {
          "base_uri": "https://localhost:8080/"
        },
        "id": "tkMCiyhIZG9U",
        "outputId": "47911f4d-8fa5-4d7e-d5f2-5e829fb08d10"
      },
      "execution_count": null,
      "outputs": [
        {
          "output_type": "execute_result",
          "data": {
            "text/plain": [
              "False"
            ]
          },
          "metadata": {},
          "execution_count": 3
        }
      ]
    },
    {
      "cell_type": "markdown",
      "source": [
        "Variables are references!!!"
      ],
      "metadata": {
        "id": "Ctq6oqKtZbih"
      }
    },
    {
      "cell_type": "code",
      "source": [
        "print(c1)\n",
        "print(c2)"
      ],
      "metadata": {
        "colab": {
          "base_uri": "https://localhost:8080/"
        },
        "id": "vFBrTCyzZdJK",
        "outputId": "7932b759-38d8-469f-ca2d-c29ef2160b38"
      },
      "execution_count": null,
      "outputs": [
        {
          "output_type": "stream",
          "name": "stdout",
          "text": [
            "<__main__.Customer object at 0x7b7d844214b0>\n",
            "<__main__.Customer object at 0x7b7d84422d10>\n"
          ]
        }
      ]
    },
    {
      "cell_type": "code",
      "source": [
        "# Overloading __eq__()\n"
      ],
      "metadata": {
        "id": "2VueYwp9Zkbh"
      },
      "execution_count": null,
      "outputs": []
    },
    {
      "cell_type": "code",
      "source": [
        "class Customer():\n",
        "  def __init__(self, id, name):\n",
        "    self.id, self.name = id, name\n",
        "# Will be called when == is used\n",
        "  def __eq__(self, other):\n",
        "    print(\"__eq__() is called\")\n",
        "    return (self.id == other.id) and (self.name == other.name)\n",
        "#-----------------------------------------------------------------------\n",
        "\n",
        "customer1 = Customer(123, \"Maryam Azar\")\n",
        "customer2 = Customer(123, \"Maryam Azar\")\n",
        "customer1 == customer2"
      ],
      "metadata": {
        "colab": {
          "base_uri": "https://localhost:8080/"
        },
        "id": "y9D7o_FJZwkb",
        "outputId": "3865e4bb-c168-4e57-f95a-4c0d9265e043"
      },
      "execution_count": null,
      "outputs": [
        {
          "output_type": "stream",
          "name": "stdout",
          "text": [
            "__eq__() is called\n"
          ]
        },
        {
          "output_type": "execute_result",
          "data": {
            "text/plain": [
              "True"
            ]
          },
          "metadata": {},
          "execution_count": 5
        }
      ]
    },
    {
      "cell_type": "markdown",
      "source": [
        "### Operator overloading: string representation"
      ],
      "metadata": {
        "id": "ctT9Db-ta-n1"
      }
    },
    {
      "cell_type": "code",
      "source": [
        "class Customer():\n",
        "  def __init__(self, name, balance):\n",
        "    self.name, self.balance = name, balance\n",
        "  def __str__(self):\n",
        "    cust_str = \"\"\"\n",
        "    Customer:\n",
        "    name: {name}\n",
        "    balance: {balance}\n",
        "    \"\"\".format(name = self.name, balance = self.balance)\n",
        "\n",
        "    return cust_str\n",
        "#---------------------------------------------------------------------\n",
        "\n",
        "cust = Customer(\"Maryam Azar\", 3000)\n",
        "print(cust)"
      ],
      "metadata": {
        "colab": {
          "base_uri": "https://localhost:8080/"
        },
        "id": "fRtju5tlajHP",
        "outputId": "ea0ba793-4f92-4874-c734-51f9fcf1edf1"
      },
      "execution_count": null,
      "outputs": [
        {
          "output_type": "stream",
          "name": "stdout",
          "text": [
            "\n",
            "    Customer:\n",
            "    name: Maryam Azar\n",
            "    balance: 3000\n",
            "    \n"
          ]
        }
      ]
    },
    {
      "cell_type": "code",
      "source": [
        "class Customer():\n",
        "  def __init__(self, name, balance):\n",
        "    self.name, self.balance = name, balance\n",
        "  def __repr__(self):\n",
        "    # Notice the '...' around name\n",
        "    return \"Customer('{name}', {balance})\".format(name = self.name, balance = self.balance)\n",
        "#-----------------------------------------------------------------------------------------------------\n",
        "\n",
        "cust = Customer(\"Maryam Azar\", 3000)\n",
        "cust"
      ],
      "metadata": {
        "colab": {
          "base_uri": "https://localhost:8080/"
        },
        "id": "KyiYFKNcbDe9",
        "outputId": "0d3b1462-aba9-4340-de4c-e471a28e5493"
      },
      "execution_count": null,
      "outputs": [
        {
          "output_type": "execute_result",
          "data": {
            "text/plain": [
              "Customer('Maryam Azar', 3000)"
            ]
          },
          "metadata": {},
          "execution_count": 7
        }
      ]
    },
    {
      "cell_type": "markdown",
      "source": [
        "### Operator Overloading +"
      ],
      "metadata": {
        "id": "hAQKFwWX6Opg"
      }
    },
    {
      "cell_type": "code",
      "source": [
        "class data:\n",
        "  def __init__(self, x):\n",
        "    self.x = x\n",
        "\n",
        "  def __add__(self, other):\n",
        "    return self.x + other.x\n",
        "#----------------------------------------------------------------------------\n",
        "\n",
        "num1 = data(5)\n",
        "num2 = data(6)\n",
        "str1 = data(\"ABF\")\n",
        "str2 = data(\"Fourty\")\n",
        "\n",
        "print(num1 + num2)\n",
        "print(str1 + str2)"
      ],
      "metadata": {
        "colab": {
          "base_uri": "https://localhost:8080/"
        },
        "id": "lyF14r1e6TXs",
        "outputId": "8d4ebd6b-1c24-44b1-98f7-e45a3a143eba"
      },
      "execution_count": null,
      "outputs": [
        {
          "output_type": "stream",
          "name": "stdout",
          "text": [
            "11\n",
            "ABFFourty\n"
          ]
        }
      ]
    },
    {
      "cell_type": "markdown",
      "source": [
        "### Operator Overloading >"
      ],
      "metadata": {
        "id": "5gOGgZ9f90Ld"
      }
    },
    {
      "cell_type": "code",
      "source": [
        "class data:\n",
        "  def __init__(self, x):\n",
        "    self.x = x\n",
        "\n",
        "  def __gt__(self, other):\n",
        "    if(self.x > other.x):\n",
        "      return True\n",
        "    else:\n",
        "      return False\n",
        "#----------------------------------------------------------------------------\n",
        "\n",
        "num1 = data(5)\n",
        "num2 = data(6)\n",
        "\n",
        "if (num1 > num2):\n",
        "  print(\"num1 is grater than num2\")\n",
        "else:\n",
        "  print(\"num2 is grater than num1\")"
      ],
      "metadata": {
        "colab": {
          "base_uri": "https://localhost:8080/"
        },
        "id": "RALIjgmf9wLZ",
        "outputId": "e9af4fd2-7030-47cf-dc0f-788eecf2038b"
      },
      "execution_count": null,
      "outputs": [
        {
          "output_type": "stream",
          "name": "stdout",
          "text": [
            "num2 is grater than num1\n"
          ]
        }
      ]
    },
    {
      "cell_type": "markdown",
      "source": [
        "### Operator Overloading <"
      ],
      "metadata": {
        "id": "zszoUQ0L_JxV"
      }
    },
    {
      "cell_type": "code",
      "source": [
        "class data:\n",
        "  def __init__(self, x):\n",
        "    self.x = x\n",
        "\n",
        "  def __lt__(self, other):\n",
        "    if(self.x < other.x):\n",
        "      return True\n",
        "    else:\n",
        "      return False\n",
        "#----------------------------------------------------------------------------\n",
        "\n",
        "num1 = data(5)\n",
        "num2 = data(6)\n",
        "\n",
        "if (num1 < num2):\n",
        "  print(\"num1 is less than num2\")\n",
        "else:\n",
        "  print(\"num2 is less than num1\")"
      ],
      "metadata": {
        "colab": {
          "base_uri": "https://localhost:8080/"
        },
        "id": "995-KuQN_LyN",
        "outputId": "3699bccb-e2a0-456d-d0e6-626dcba9d1e7"
      },
      "execution_count": null,
      "outputs": [
        {
          "output_type": "stream",
          "name": "stdout",
          "text": [
            "num1 is less than num2\n"
          ]
        }
      ]
    },
    {
      "cell_type": "markdown",
      "source": [
        "### Operator Overloading =="
      ],
      "metadata": {
        "id": "xH9qOw5i_snu"
      }
    },
    {
      "cell_type": "code",
      "source": [
        "class data:\n",
        "  def __init__(self, x):\n",
        "    self.x = x\n",
        "\n",
        "  def __eq__(self, other):\n",
        "    if(self.x == other.x):\n",
        "      return True\n",
        "    else:\n",
        "      return False\n",
        "#----------------------------------------------------------------------------\n",
        "\n",
        "num1 = data(5)\n",
        "num2 = data(6)\n",
        "\n",
        "if (num1 == num2):\n",
        "  print(\"num1 is equal to num2\")\n",
        "else:\n",
        "  print(\"num2 is not equal to num1\")"
      ],
      "metadata": {
        "colab": {
          "base_uri": "https://localhost:8080/"
        },
        "id": "RvSqkXuy_xh0",
        "outputId": "0e876be6-ea35-4583-8079-be307d29b8e9"
      },
      "execution_count": null,
      "outputs": [
        {
          "output_type": "stream",
          "name": "stdout",
          "text": [
            "num2 is not equal to num1\n"
          ]
        }
      ]
    },
    {
      "cell_type": "code",
      "source": [
        "class data:\n",
        "  def __init__(self, x):\n",
        "    self.x = x\n",
        "\n",
        "  # def __add__(self, other):\n",
        "  #   return self.x + other.x\n",
        "#===================================================\n",
        "\n",
        "num1 = data(5)\n",
        "num2 = data(6)\n",
        "str1 = data(\"ABF\")\n",
        "str2 = data(\"Fourty\")\n",
        "\n",
        "print(num1 + num2)\n",
        "print(str1 + str2)"
      ],
      "metadata": {
        "colab": {
          "base_uri": "https://localhost:8080/",
          "height": 193
        },
        "id": "Y0_3jHrHtIQf",
        "outputId": "43c6dafb-bc6a-4b1a-ccf3-147efde10ecd"
      },
      "execution_count": null,
      "outputs": [
        {
          "output_type": "error",
          "ename": "TypeError",
          "evalue": "unsupported operand type(s) for +: 'data' and 'data'",
          "traceback": [
            "\u001b[0;31m---------------------------------------------------------------------------\u001b[0m",
            "\u001b[0;31mTypeError\u001b[0m                                 Traceback (most recent call last)",
            "\u001b[0;32m<ipython-input-2-ee41a00aa070>\u001b[0m in \u001b[0;36m<cell line: 14>\u001b[0;34m()\u001b[0m\n\u001b[1;32m     12\u001b[0m \u001b[0mstr2\u001b[0m \u001b[0;34m=\u001b[0m \u001b[0mdata\u001b[0m\u001b[0;34m(\u001b[0m\u001b[0;34m\"Fourty\"\u001b[0m\u001b[0;34m)\u001b[0m\u001b[0;34m\u001b[0m\u001b[0;34m\u001b[0m\u001b[0m\n\u001b[1;32m     13\u001b[0m \u001b[0;34m\u001b[0m\u001b[0m\n\u001b[0;32m---> 14\u001b[0;31m \u001b[0mprint\u001b[0m\u001b[0;34m(\u001b[0m\u001b[0mnum1\u001b[0m \u001b[0;34m+\u001b[0m \u001b[0mnum2\u001b[0m\u001b[0;34m)\u001b[0m\u001b[0;34m\u001b[0m\u001b[0;34m\u001b[0m\u001b[0m\n\u001b[0m\u001b[1;32m     15\u001b[0m \u001b[0mprint\u001b[0m\u001b[0;34m(\u001b[0m\u001b[0mstr1\u001b[0m \u001b[0;34m+\u001b[0m \u001b[0mstr2\u001b[0m\u001b[0;34m)\u001b[0m\u001b[0;34m\u001b[0m\u001b[0;34m\u001b[0m\u001b[0m\n",
            "\u001b[0;31mTypeError\u001b[0m: unsupported operand type(s) for +: 'data' and 'data'"
          ]
        }
      ]
    },
    {
      "cell_type": "code",
      "source": [
        "class data:\n",
        "  def __init__(self, x):\n",
        "    self.x = x\n",
        "\n",
        "  def __add__(self, other):\n",
        "    return self.x + other.x\n",
        "#===================================================\n",
        "\n",
        "num1 = data(5)\n",
        "num2 = data(6)\n",
        "str1 = data(\"ABF\")\n",
        "str2 = data(\"Fourty\")\n",
        "\n",
        "print(num1 + num2)\n",
        "print(str1 + str2)"
      ],
      "metadata": {
        "colab": {
          "base_uri": "https://localhost:8080/"
        },
        "id": "wN1WedSnuMJY",
        "outputId": "d347a778-cbef-4f39-a251-34810a504165"
      },
      "execution_count": null,
      "outputs": [
        {
          "output_type": "stream",
          "name": "stdout",
          "text": [
            "11\n",
            "ABFFourty\n"
          ]
        }
      ]
    },
    {
      "cell_type": "code",
      "source": [
        "class House:\n",
        "  def __init__(self, w, d):\n",
        "    self.window = w\n",
        "    self.door = d\n",
        "\n",
        "  def view(self):\n",
        "    print(\"The house has\", self.window, \"Windows\", self.door, \"Doors\")\n",
        "\n",
        "  def __add__(self, other):\n",
        "    new_window = self.window + other.window\n",
        "    new_door = self.door + other.door\n",
        "    return \"New house has \" + str(new_window)+ \" windows and \"+ str(new_door) + \" doors\"\n",
        "#========================================================================================\n",
        "\n",
        "h1 = House(5, 3)\n",
        "h2 = House(6, 4)\n",
        "\n",
        "h1.view()\n",
        "h2.view()\n",
        "print(h1+h2) #h1.__add__(h2)"
      ],
      "metadata": {
        "colab": {
          "base_uri": "https://localhost:8080/"
        },
        "id": "cVy4zjcNwuq_",
        "outputId": "08aea0c2-fabb-4208-920f-691366a833ab"
      },
      "execution_count": null,
      "outputs": [
        {
          "output_type": "stream",
          "name": "stdout",
          "text": [
            "The house has 5 Windows 3 Doors\n",
            "The house has 6 Windows 4 Doors\n",
            "New house has 11 windows and 7 doors\n"
          ]
        }
      ]
    },
    {
      "cell_type": "markdown",
      "source": [
        "Now I want to create a new obj to combine the 2 existing obj(h1, h2)"
      ],
      "metadata": {
        "id": "uhWJO852ADnY"
      }
    },
    {
      "cell_type": "code",
      "source": [
        "class House:\n",
        "  def __init__(self, w, d):\n",
        "    self.window = w\n",
        "    self.door = d\n",
        "\n",
        "  def view(self):\n",
        "    print(\"The house has\", self.window, \"Windows\", self.door, \"Doors\")\n",
        "\n",
        "  def __add__(self, other):\n",
        "    new_window = self.window + other.window\n",
        "    new_door = self.door + other.door\n",
        "    obj = House(new_window, new_door)\n",
        "    return obj\n",
        "#========================================================================================\n",
        "\n",
        "h1 = House(5, 3)\n",
        "h2 = House(6, 4)\n",
        "h3 = h1 + h2\n",
        "h1.view()\n",
        "h2.view()\n",
        "h3.view()"
      ],
      "metadata": {
        "colab": {
          "base_uri": "https://localhost:8080/"
        },
        "id": "v3LrzjklAKrT",
        "outputId": "4e78bc22-dbc7-4026-be23-956ff70bf872"
      },
      "execution_count": null,
      "outputs": [
        {
          "output_type": "stream",
          "name": "stdout",
          "text": [
            "The house has 5 Windows 3 Doors\n",
            "The house has 6 Windows 4 Doors\n",
            "The house has 11 Windows 7 Doors\n"
          ]
        }
      ]
    },
    {
      "cell_type": "markdown",
      "source": [
        "# Encapsulation"
      ],
      "metadata": {
        "id": "F_GZKKBtBGXN"
      }
    },
    {
      "cell_type": "code",
      "source": [
        "class Student:\n",
        "  def __init__(self, name, id):\n",
        "    self.name = name\n",
        "    self.id = id\n",
        "\n",
        "  def details(self):\n",
        "    print(\"Name:\", self.name, \"ID:\", self.id)\n",
        "#======================================================\n",
        "\n",
        "s1 = Student(\"Rifat\", 192040)\n",
        "s1.id = -888\n",
        "s1.details()"
      ],
      "metadata": {
        "id": "3erxpKmmBIja",
        "colab": {
          "base_uri": "https://localhost:8080/"
        },
        "outputId": "844f0c03-ef22-4ec0-9019-315f8b4a8378"
      },
      "execution_count": null,
      "outputs": [
        {
          "output_type": "stream",
          "name": "stdout",
          "text": [
            "Name: Rifat ID: -888\n"
          ]
        }
      ]
    },
    {
      "cell_type": "markdown",
      "source": [
        "Encapsulation allows you to define controlled access to data stored inside objects of your class. This allows you to write clean, readable, and efficient code and prevent accidental changes or deletion of your class data."
      ],
      "metadata": {
        "id": "9fvn4UTH351S"
      }
    },
    {
      "cell_type": "code",
      "source": [
        "class Student:\n",
        "  def __init__(self, name, id):\n",
        "    self.name = name\n",
        "    self.__id = id\n",
        "\n",
        "  def details(self):\n",
        "    print(\"Name:\", self.name, \"ID:\", self.__id)\n",
        "#======================================================\n",
        "\n",
        "s1 = Student(\"Rifat\", 192040)\n",
        "#s1.details()\n",
        "print(s1.__id)"
      ],
      "metadata": {
        "colab": {
          "base_uri": "https://localhost:8080/"
        },
        "id": "IZW4BN6o37Fo",
        "outputId": "a7e9bc8e-e0dd-47e0-8b0c-bd5b4b625f53"
      },
      "execution_count": null,
      "outputs": [
        {
          "output_type": "stream",
          "name": "stdout",
          "text": [
            "Name: Rifat ID: 192040\n"
          ]
        }
      ]
    },
    {
      "cell_type": "markdown",
      "source": [
        "\"__\" do private. We couldn't access variable out of class."
      ],
      "metadata": {
        "id": "Vm0CATlp5FPe"
      }
    },
    {
      "cell_type": "code",
      "source": [
        "class Student:\n",
        "  def __init__(self, name, id):\n",
        "    self.name = name\n",
        "    self.__id = id\n",
        "\n",
        "  def details(self):\n",
        "    print(\"Name:\", self.name, \"ID:\", self.__id)\n",
        "#======================================================\n",
        "\n",
        "s1 = Student(\"Rifat\", 192040)\n",
        "#s1.details()\n",
        "s1.__id = -66\n",
        "print(s1.__dict__)\n",
        "s1.details()"
      ],
      "metadata": {
        "colab": {
          "base_uri": "https://localhost:8080/"
        },
        "id": "YSbzBtMn5D6b",
        "outputId": "9cc79792-66f7-4349-939c-cd7ec842cfc2"
      },
      "execution_count": null,
      "outputs": [
        {
          "output_type": "stream",
          "name": "stdout",
          "text": [
            "{'name': 'Rifat', '_Student__id': 192040, '__id': -66}\n",
            "Name: Rifat ID: 192040\n"
          ]
        }
      ]
    },
    {
      "cell_type": "code",
      "source": [
        "class Student:\n",
        "  def __init__(self, name, id):\n",
        "    self.name = name\n",
        "    self.__id = id\n",
        "\n",
        "  def details(self):\n",
        "    print(\"Name:\", self.name, \"ID:\", self.__id)\n",
        "\n",
        "  def updt_ID(self, id):\n",
        "    if (id > 0):\n",
        "      self.__id = id\n",
        "    else:\n",
        "      print(\"Invalid Id\")\n",
        "#======================================================\n",
        "\n",
        "s1 = Student(\"Rifat\", 192040)\n",
        "s1.updt_ID(11)\n",
        "s1.details()"
      ],
      "metadata": {
        "colab": {
          "base_uri": "https://localhost:8080/"
        },
        "id": "7ZjT-IMV6I4I",
        "outputId": "ec77f5f1-e496-472d-9767-21b5ddbd45ee"
      },
      "execution_count": null,
      "outputs": [
        {
          "output_type": "stream",
          "name": "stdout",
          "text": [
            "Name: Rifat ID: 11\n"
          ]
        }
      ]
    },
    {
      "cell_type": "markdown",
      "source": [
        "### Getter-setter(conventional method to updatae)"
      ],
      "metadata": {
        "id": "zo--o4ac_rTc"
      }
    },
    {
      "cell_type": "code",
      "source": [
        "class Student:\n",
        "  def __init__(self, name, id):\n",
        "    self.name = name\n",
        "    self.__id = id\n",
        "\n",
        "  def details(self):\n",
        "    print(\"Name:\", self.name, \"ID:\", self.__id)\n",
        "\n",
        "  def set_ID(self, id):\n",
        "    if (id > 0):\n",
        "      self.__id = id\n",
        "    else:\n",
        "      print(\"Invalid Id\")\n",
        "\n",
        "  def get_ID(self):\n",
        "    return self.__id\n",
        "#======================================================\n",
        "\n",
        "s1 = Student(\"Rifat\", 192040)\n",
        "s2 = Student(\"ABF\", 71)\n",
        "s1.set_ID(242013)\n",
        "s1.get_ID()\n",
        "#s1.details()"
      ],
      "metadata": {
        "colab": {
          "base_uri": "https://localhost:8080/"
        },
        "id": "Dz_G7qb16LbY",
        "outputId": "f4772298-de08-4c22-f93b-455a368ce38b"
      },
      "execution_count": null,
      "outputs": [
        {
          "output_type": "execute_result",
          "data": {
            "text/plain": [
              "242013"
            ]
          },
          "metadata": {},
          "execution_count": 21
        }
      ]
    },
    {
      "cell_type": "markdown",
      "source": [
        "### Private method"
      ],
      "metadata": {
        "id": "V120WEpgB6Tp"
      }
    },
    {
      "cell_type": "code",
      "source": [
        "class Student:\n",
        "  def __init__(self, name, id):\n",
        "    self.name = name\n",
        "    self.__id = id\n",
        "\n",
        "  def details(self):\n",
        "    print(\"Name:\", self.name, \"ID:\", self.__id)\n",
        "    self.__method()\n",
        "\n",
        "  def __method(delf):\n",
        "    print(\"Private Method\")\n",
        "#======================================================\n",
        "\n",
        "s1 = Student(\"Rifat\", 192040)\n",
        "s1.details()\n",
        "#s1.__method()"
      ],
      "metadata": {
        "colab": {
          "base_uri": "https://localhost:8080/"
        },
        "id": "PdO0I-hlB9SV",
        "outputId": "fb49ad31-a936-4b26-cef3-3f4e62fca673"
      },
      "execution_count": null,
      "outputs": [
        {
          "output_type": "stream",
          "name": "stdout",
          "text": [
            "Name: Rifat ID: 192040\n",
            "Private Method\n"
          ]
        }
      ]
    },
    {
      "cell_type": "markdown",
      "source": [
        "# Class or Static variable"
      ],
      "metadata": {
        "id": "5V1VxT6oC6CF"
      }
    },
    {
      "cell_type": "code",
      "source": [
        "class Player:\n",
        "  team_run = 0        #static or class variable\n",
        "\n",
        "  def __init__(self, run):\n",
        "    self.run = run\n",
        "\n",
        "  def hit_four(self):\n",
        "    self.run += 4\n",
        "    Player.team_run += 4\n",
        "\n",
        "  def hit_six(self):\n",
        "    self.run += 6\n",
        "    Player.team_run += 6\n",
        "#=============================================\n",
        "\n",
        "\n",
        "Sakib = Player(0)\n",
        "Tamim = Player(0)\n",
        "\n",
        "Tamim.hit_four()\n",
        "Tamim.hit_four()\n",
        "Sakib.hit_six()\n",
        "\n",
        "print(\"Sakib\", Sakib.run)\n",
        "print(\"Tamim\", Tamim.run)\n",
        "\n",
        "#print(\"Tamim\", Tamim.__dict__)\n",
        "#print(\"Sakib\", Sakib.__dict__)\n",
        "print(\"Team Run:\",Player.team_run)"
      ],
      "metadata": {
        "colab": {
          "base_uri": "https://localhost:8080/"
        },
        "id": "QTtHuMskC-yr",
        "outputId": "5ece0cad-4561-4b6e-c453-0bd00ef673e5"
      },
      "execution_count": null,
      "outputs": [
        {
          "output_type": "stream",
          "name": "stdout",
          "text": [
            "Sakib 6\n",
            "Tamim 8\n",
            "Team Run: 14\n"
          ]
        }
      ]
    },
    {
      "cell_type": "code",
      "source": [
        "# Example 2\n",
        "class Student:\n",
        "  counter = 0\n",
        "\n",
        "  def __init__(self, name, Id):\n",
        "    self.name = name\n",
        "    self.id = Id\n",
        "    Student.counter += 1\n",
        "\n",
        "  def details(self):\n",
        "    print(\"Name:\", self.name, \"ID:\", self.id,\\\n",
        "          \"Student count:\", Student.counter)\n",
        "#==================================================================\n",
        "\n",
        "s1 = Student(\"Billu\", 12345)\n",
        "s2 = Student(\"Killer\", 23456)\n",
        "s3 = Student(\"Miller\", 34567)\n",
        "s1.details()"
      ],
      "metadata": {
        "colab": {
          "base_uri": "https://localhost:8080/"
        },
        "id": "R5nsSMXMSKVX",
        "outputId": "11eada2b-2080-4431-a45d-f3fe924eea16"
      },
      "execution_count": null,
      "outputs": [
        {
          "output_type": "stream",
          "name": "stdout",
          "text": [
            "Name: Billu ID: 12345 Student count: 3\n"
          ]
        }
      ]
    },
    {
      "cell_type": "markdown",
      "source": [
        "# Method"
      ],
      "metadata": {
        "id": "QunLvlWzQPZX"
      }
    },
    {
      "cell_type": "markdown",
      "source": [
        "- Instance Method\n",
        "- Class Method\n",
        "- Static Method"
      ],
      "metadata": {
        "id": "Dz6CUtTkQY2K"
      }
    },
    {
      "cell_type": "code",
      "source": [
        "class MyClass:\n",
        "  def method(self):\n",
        "    print(self, \"instance method called\")\n",
        "\n",
        "  @classmethod\n",
        "  def class_method(cls):\n",
        "    print(cls, \"class method called\")\n",
        "\n",
        "  @staticmethod\n",
        "  def static_method(cls):\n",
        "    print(\"class method called\")"
      ],
      "metadata": {
        "id": "-wJ3OuAHQRS4"
      },
      "execution_count": null,
      "outputs": []
    },
    {
      "cell_type": "markdown",
      "source": [
        "### Class Method"
      ],
      "metadata": {
        "id": "Sim13z_qUhmi"
      }
    },
    {
      "cell_type": "code",
      "source": [
        "class Student:\n",
        "  uni_name = \"KU\"\n",
        "\n",
        "  def __init__(self, name, id):\n",
        "    self.name = name\n",
        "    self.__id = id\n",
        "\n",
        "  def details(self):\n",
        "    print(\"Name:\", self.name, \"ID:\", self.__id, Student.uni_name)\n",
        "\n",
        "  @classmethod\n",
        "  def up_uni_name(cls, u_name):\n",
        "    #print(\"...\")\n",
        "    cls.uni_name = u_name\n",
        "\n",
        "#===============================================================\n",
        "s1 = Student(\"Rifat\", 192040)\n",
        "s2 = Student(\"ABF\", 242013)\n",
        "s2.details()\n",
        "s1.details()\n",
        "Student.up_uni_name(\"Khulna University\")\n",
        "s2.details()\n",
        "s1.details()"
      ],
      "metadata": {
        "colab": {
          "base_uri": "https://localhost:8080/"
        },
        "id": "JYJoSDkuUlo8",
        "outputId": "052f1dab-f03f-4245-ba1f-ad32d5b260e3"
      },
      "execution_count": null,
      "outputs": [
        {
          "output_type": "stream",
          "name": "stdout",
          "text": [
            "Name: ABF ID: 242013 KU\n",
            "Name: Rifat ID: 192040 KU\n",
            "Name: ABF ID: 242013 Khulna University\n",
            "Name: Rifat ID: 192040 Khulna University\n"
          ]
        }
      ]
    },
    {
      "cell_type": "code",
      "source": [
        "class Student:\n",
        "  uni_name = \"KU\"\n",
        "\n",
        "  def __init__(self, name, id):\n",
        "    self.name = name\n",
        "    self.__id = id\n",
        "\n",
        "  def details(self):\n",
        "    print(\"Name:\", self.name, \"ID:\", self.__id, Student.uni_name)\n",
        "\n",
        "  @classmethod\n",
        "  def up_uni_name(cls, u_name):\n",
        "    #print(\"...\")\n",
        "    cls.uni_name = u_name\n",
        "\n",
        "  @classmethod\n",
        "  def from_string(cls, info):\n",
        "    name, Id = info.split(\"-\")\n",
        "    obj = cls(name, Id)\n",
        "    return obj\n",
        "\n",
        "#===============================================================\n",
        "s1 = Student(\"Rifat\", 192040)\n",
        "s2 = Student.from_string(\"ABF-13\")\n",
        "s2.details()"
      ],
      "metadata": {
        "colab": {
          "base_uri": "https://localhost:8080/"
        },
        "id": "97kg7mkkdPn5",
        "outputId": "34f8394d-9157-44fd-e57a-949442a2c99a"
      },
      "execution_count": null,
      "outputs": [
        {
          "output_type": "stream",
          "name": "stdout",
          "text": [
            "Name: ABF ID: 13 KU\n"
          ]
        }
      ]
    },
    {
      "cell_type": "code",
      "source": [
        "class Student:\n",
        "  uni_name = \"KU\"\n",
        "\n",
        "  def __init__(self, name, id):\n",
        "    self.name = name\n",
        "    self.__id = id\n",
        "\n",
        "  def details(self):\n",
        "    print(\"Name:\", self.name, \"Id:\", self.__id, Student.uni_name)\n",
        "\n",
        "  @classmethod\n",
        "  def up_uni_name(cls, u_name):\n",
        "    cls.uni_name = u_name\n",
        "\n",
        "  @staticmethod\n",
        "  def check_department(id):\n",
        "    if id[2:4] == \"20\": print(\"Statistics\")\n",
        "    elif id[2:4] == \"19\": print(\"Bangla\")\n",
        "\n",
        "  #================================================\n",
        "s1 = Student(\"Bob\", 11)\n",
        "s2 = Student(\"Bal\", 10)\n",
        "s1.details()\n",
        "Student.check_department(\"242013\")\n"
      ],
      "metadata": {
        "colab": {
          "base_uri": "https://localhost:8080/"
        },
        "id": "_-tzuvYrBrAk",
        "outputId": "3a5af738-17c2-42ff-b6a9-3203aec1390b"
      },
      "execution_count": null,
      "outputs": [
        {
          "output_type": "stream",
          "name": "stdout",
          "text": [
            "Name: Bob Id: 11 KU\n",
            "Statistics\n"
          ]
        }
      ]
    },
    {
      "cell_type": "markdown",
      "source": [
        "Static method is not necessarily related to obj. Its used for extra work."
      ],
      "metadata": {
        "id": "AwR7yUvCFEw6"
      }
    },
    {
      "cell_type": "markdown",
      "source": [
        "# Inheritance"
      ],
      "metadata": {
        "id": "46RRZ3gWJj1y"
      }
    },
    {
      "cell_type": "code",
      "source": [
        "# Single Inheritance\n",
        "class Animal:\n",
        "\n",
        "  def __init__(self, name):\n",
        "    self.name = name\n",
        "\n",
        "  def eat(self):\n",
        "    print(self.name, \"is eating\")\n",
        "#====================================================================\n",
        "\n",
        "class Dog(Animal):\n",
        "\n",
        "  def bark(self):\n",
        "    print(self.name, \"is barking\")\n",
        "#==================================================================\n",
        "\n",
        "a1 = Animal(\"Jack\")\n",
        "d1 = Dog(\"Miki\")\n",
        "d1.bark()\n",
        "d1.eat()\n",
        "a1.eat()\n",
        "#a1.bark()"
      ],
      "metadata": {
        "id": "hG54g8Z8FjfG",
        "colab": {
          "base_uri": "https://localhost:8080/"
        },
        "outputId": "4e870d7d-dbdd-4a08-bb3f-f2f263799ad8"
      },
      "execution_count": null,
      "outputs": [
        {
          "output_type": "stream",
          "name": "stdout",
          "text": [
            "Miki is barking\n",
            "Miki is eating\n",
            "Jack is eating\n"
          ]
        }
      ]
    },
    {
      "cell_type": "code",
      "source": [
        "print(isinstance(a1, Animal))\n",
        "print(issubclass(Dog, Animal))\n",
        "print(issubclass(Animal, Dog))"
      ],
      "metadata": {
        "colab": {
          "base_uri": "https://localhost:8080/"
        },
        "id": "4Vq65JOP7F2Q",
        "outputId": "02463c9d-f079-40fc-b52a-48b08a583f10"
      },
      "execution_count": null,
      "outputs": [
        {
          "output_type": "stream",
          "name": "stdout",
          "text": [
            "True\n",
            "True\n",
            "False\n"
          ]
        }
      ]
    },
    {
      "cell_type": "code",
      "source": [
        "class Student:\n",
        "\n",
        "  def __init__(self, name, id):\n",
        "    self.name = name\n",
        "    self.id = id\n",
        "\n",
        "  def details(self):\n",
        "    print(\"Name:\", self.name, \"ID:\", self.id)\n",
        "#============================================================\n",
        "\n",
        "class StatStudent(Student):\n",
        "  def __init__(self, name, id, labs):\n",
        "    super().__init__(name, id)\n",
        "    self.no_of_labs = labs\n",
        "\n",
        "  def cry(self):\n",
        "    print(\"Stat student is crying because of\", self.no_of_labs, \"labs\")\n",
        "#================================================================\n",
        "\n",
        "class BBAStudnet(Student):\n",
        "  def formal(self):\n",
        "    print(\"All day formal\")\n",
        "#==================================================================\n",
        "\n",
        "s1 = StatStudent(\"Rifat\", 242013, 2)\n",
        "s2 = BBAStudnet(\"Vod\", 123456)\n",
        "s1.details()\n",
        "s1.cry()\n",
        "s2.formal()\n",
        "print(help(s2))"
      ],
      "metadata": {
        "colab": {
          "base_uri": "https://localhost:8080/"
        },
        "id": "cOXJFjMu72oS",
        "outputId": "8a5b579d-cfa0-4ea4-b372-9002773fe188"
      },
      "execution_count": null,
      "outputs": [
        {
          "output_type": "stream",
          "name": "stdout",
          "text": [
            "Name: Rifat ID: 242013\n",
            "Stat student is crying because of 2 labs\n",
            "All day formal\n",
            "Help on BBAStudnet in module __main__ object:\n",
            "\n",
            "class BBAStudnet(Student)\n",
            " |  BBAStudnet(name, id)\n",
            " |  \n",
            " |  Method resolution order:\n",
            " |      BBAStudnet\n",
            " |      Student\n",
            " |      builtins.object\n",
            " |  \n",
            " |  Methods defined here:\n",
            " |  \n",
            " |  formal(self)\n",
            " |  \n",
            " |  ----------------------------------------------------------------------\n",
            " |  Methods inherited from Student:\n",
            " |  \n",
            " |  __init__(self, name, id)\n",
            " |      Initialize self.  See help(type(self)) for accurate signature.\n",
            " |  \n",
            " |  details(self)\n",
            " |  \n",
            " |  ----------------------------------------------------------------------\n",
            " |  Data descriptors inherited from Student:\n",
            " |  \n",
            " |  __dict__\n",
            " |      dictionary for instance variables (if defined)\n",
            " |  \n",
            " |  __weakref__\n",
            " |      list of weak references to the object (if defined)\n",
            "\n",
            "None\n"
          ]
        }
      ]
    },
    {
      "cell_type": "code",
      "source": [
        "# Multilevel Inheritance\n",
        "class Student:\n",
        "\n",
        "  def __init__(self, name, id):\n",
        "    self.name = name\n",
        "    self.id = id\n",
        "\n",
        "  def details(self):\n",
        "    print(\"Name:\", self.name, \"ID:\", self.id)\n",
        "#============================================================\n",
        "\n",
        "class StatStudent(Student):\n",
        "  def __init__(self, name, id, labs):\n",
        "    super().__init__(name, id)\n",
        "    self.no_of_labs = labs\n",
        "\n",
        "  def cry(self):\n",
        "    print(\"Stat student is crying because of\", self.no_of_labs, \"labs\")\n",
        "#=========================================================================\n",
        "\n",
        "class StatFresher(StatStudent):\n",
        "\n",
        "  def enroll_stat1112(self):\n",
        "    print(\"Stat-1112\")\n",
        "#=========================================================================\n",
        "\n",
        "s1 = StatStudent(\"Rifat\", 13, 2)\n",
        "s2 = StatFresher(\"ABF\", 40, 1)\n",
        "s2.details()\n",
        "s1.details()\n",
        "s2.cry()\n",
        "s2.enroll_stat1112()"
      ],
      "metadata": {
        "colab": {
          "base_uri": "https://localhost:8080/"
        },
        "id": "9U-hDYDa-q5Z",
        "outputId": "bc052e31-678e-4a5f-c71e-016e25d58f53"
      },
      "execution_count": null,
      "outputs": [
        {
          "output_type": "stream",
          "name": "stdout",
          "text": [
            "Name: ABF ID: 40\n",
            "Name: Rifat ID: 13\n",
            "Stat student is crying because of 1 labs\n",
            "Stat-1112\n"
          ]
        }
      ]
    },
    {
      "cell_type": "code",
      "source": [
        "# Multiple Inheritance(multiple parents)\n",
        "class A:\n",
        "  def __init__(self):\n",
        "    print(\"__init__ of class A\")\n",
        "\n",
        "  def method1(self):\n",
        "    print(\"method1 of class A\")\n",
        "#====================================================\n",
        "\n",
        "class B:\n",
        "  def __init__(self):\n",
        "    print(\"__init__ of class B\")\n",
        "\n",
        "  def method1(self):\n",
        "    print(\"method1 of class B\")\n",
        "#====================================================\n",
        "\n",
        "class C(A, B): #left to right\n",
        "  def __init__(self):\n",
        "    #super().__init__()\n",
        "    #B.__init__(self)\n",
        "    print(\"__init__ of class C\")\n",
        "\n",
        "  def method2(self):\n",
        "    print(\"method2 of class C\")\n",
        "#====================================================\n",
        "\n",
        "c1 = C()\n",
        "c1.method1()\n",
        "c1.method2()\n",
        "B.method1(c1)"
      ],
      "metadata": {
        "colab": {
          "base_uri": "https://localhost:8080/"
        },
        "id": "HehnUncMmczU",
        "outputId": "27d516e9-1a2e-4297-c151-a3f5f9f508e5"
      },
      "execution_count": null,
      "outputs": [
        {
          "output_type": "stream",
          "name": "stdout",
          "text": [
            "__init__ of class C\n",
            "method1 of class A\n",
            "method2 of class C\n",
            "method1 of class B\n"
          ]
        }
      ]
    },
    {
      "cell_type": "markdown",
      "source": [
        "# Inheritance (Variable Overriding)"
      ],
      "metadata": {
        "id": "ZRdOY51etVgZ"
      }
    },
    {
      "cell_type": "code",
      "source": [
        "# Inheritance (Variable Overriding)\n",
        "class Animal:\n",
        "\n",
        "  def __init__(self, name):\n",
        "    self.name = name\n",
        "    self.color = \"black\"\n",
        "\n",
        "  def eat(self):\n",
        "    print(self.name, \"is eating\")\n",
        "#===========================================\n",
        "\n",
        "class Dog(Animal):\n",
        "\n",
        "  def __init__(self, name, color):\n",
        "    super().__init__(name)\n",
        "    self.color = color\n",
        "\n",
        "  def bark(self):\n",
        "    print(self.name, \"is barking\")\n",
        "#================================================================\n",
        "\n",
        "a1 = Animal(\"Jack\")\n",
        "d1 = Dog(\"Miki\", \"White\")\n",
        "print(d1.__dict__)\n",
        "# d1.bark()\n",
        "# d1.eat()\n",
        "# a1.eat()"
      ],
      "metadata": {
        "colab": {
          "base_uri": "https://localhost:8080/"
        },
        "id": "GsSTHEcItUIZ",
        "outputId": "d52f2a6e-736b-4e42-c01f-ff6d5cbc8ca4"
      },
      "execution_count": null,
      "outputs": [
        {
          "output_type": "stream",
          "name": "stdout",
          "text": [
            "{'name': 'Miki', 'color': 'White'}\n"
          ]
        }
      ]
    },
    {
      "cell_type": "markdown",
      "source": [
        "# Inheritance (Method Overriding)"
      ],
      "metadata": {
        "id": "kgtFhrxCLUWJ"
      }
    },
    {
      "cell_type": "code",
      "source": [
        "class A:  #Parent class\n",
        "\n",
        "  def __init__(self):\n",
        "    print(\"A\")\n",
        "\n",
        "  def method1(self):\n",
        "    print(\"Always Study\")\n",
        "\n",
        "  def method2(self):\n",
        "    print(\"Always Work on the Street\")\n",
        "#====================================================\n",
        "\n",
        "class B(A):   #child class\n",
        "\n",
        "  def __init__(self):\n",
        "    pass\n",
        "    #super().__init__()\n",
        "    #print(\"B\")\n",
        "\n",
        "  def method1(self):\n",
        "    print(\"Always Work\")\n",
        "#====================================================\n",
        "\n",
        "b1 = B()\n",
        "b1.method1()\n",
        "b1.method2()\n",
        "#"
      ],
      "metadata": {
        "colab": {
          "base_uri": "https://localhost:8080/"
        },
        "id": "4ks4bPHWLS2v",
        "outputId": "da01bfb7-1dd7-42ea-8b8b-e42cbb1dff9c"
      },
      "execution_count": null,
      "outputs": [
        {
          "output_type": "stream",
          "name": "stdout",
          "text": [
            "Always Work\n",
            "Always Work on the Street\n"
          ]
        }
      ]
    },
    {
      "cell_type": "markdown",
      "source": [
        "# __str__()"
      ],
      "metadata": {
        "id": "jkCnS9FgPDvv"
      }
    },
    {
      "cell_type": "code",
      "source": [
        "class Student:\n",
        "  def __init__(self, name, id):\n",
        "    self.name = name\n",
        "    self.id = id\n",
        "\n",
        "  def __str__(self):\n",
        "    return \"Name: \" + self.name + \" ID: \" + str(self.id)\n",
        "#===============================================================\n",
        "\n",
        "s1 = Student(\"Rifat\", 192040)\n",
        "print(s1)\n",
        "print(s1.__str__())"
      ],
      "metadata": {
        "colab": {
          "base_uri": "https://localhost:8080/"
        },
        "id": "fodTBdc2PF4n",
        "outputId": "00f79965-7c98-43a7-cb73-e3986618af44"
      },
      "execution_count": null,
      "outputs": [
        {
          "output_type": "stream",
          "name": "stdout",
          "text": [
            "Name: Rifat ID: 192040\n",
            "Name: Rifat ID: 192040\n"
          ]
        }
      ]
    },
    {
      "cell_type": "markdown",
      "source": [
        "# Composition | Has-A relationship"
      ],
      "metadata": {
        "id": "2_jMmkg6QDUN"
      }
    },
    {
      "cell_type": "code",
      "source": [
        "class Engine:\n",
        "  def __init__(self, cc):\n",
        "    self.capacity = cc\n",
        "\n",
        "  def start(self):\n",
        "    print(\"Engine is starting\")\n",
        "\n",
        "  def stop(self):\n",
        "    print(\"Engine is stopping\")\n",
        "#================================================================\n",
        "\n",
        "# class Car(Engine):\n",
        "class Car():\n",
        "  def __init__(self, name, cc):\n",
        "    #super().__init__(cc)\n",
        "    self.name = name\n",
        "    self.engine = Engine(cc)\n",
        "\n",
        "  # def start(self):\n",
        "  #   self.engine.start()\n",
        "\n",
        "  # def stop(self):\n",
        "  #   self.engine.stop()\n",
        "\n",
        "  def run(self):\n",
        "    print(\"Car is running\")\n",
        "#===================================================\n",
        "\n",
        "c1 = Car(\"Honda\", cc=1000)\n",
        "c1.run()\n",
        "c1.engine.start()\n",
        "c1.engine.stop()"
      ],
      "metadata": {
        "colab": {
          "base_uri": "https://localhost:8080/"
        },
        "id": "IhKLiNeuQFkr",
        "outputId": "6766cc85-a47c-4366-b82c-fadffb8e67c8"
      },
      "execution_count": null,
      "outputs": [
        {
          "output_type": "stream",
          "name": "stdout",
          "text": [
            "Car is running\n",
            "Engine is starting\n",
            "Engine is stopping\n"
          ]
        }
      ]
    },
    {
      "cell_type": "markdown",
      "source": [
        "# Abstract class and method"
      ],
      "metadata": {
        "id": "IsDaqM7OAymo"
      }
    },
    {
      "cell_type": "code",
      "source": [
        "from abc import ABC, abstractmethod\n",
        "\n",
        "class Shape(ABC):\n",
        "  @abstractmethod\n",
        "  def area(self):\n",
        "    pass\n",
        "\n",
        "  @abstractmethod\n",
        "  def perimeter(self):\n",
        "    pass\n",
        "#================================================================\n",
        "\n",
        "class Rectangle(Shape):\n",
        "  def __init__(self, l, b):\n",
        "    self.length = l\n",
        "    self.breadth = b\n",
        "\n",
        "  def area(self):\n",
        "    print(\"Area:\", self.length * self.breadth)\n",
        "\n",
        "  def perimeter(self):\n",
        "    print(\"Perimeter:\", 2 * (self.length + self.breadth))\n",
        "#================================================================\n",
        "\n",
        "r1 = Rectangle(10, 20)\n",
        "r1.area()\n",
        "r1.perimeter()"
      ],
      "metadata": {
        "colab": {
          "base_uri": "https://localhost:8080/"
        },
        "id": "X45Uo9wKAyNO",
        "outputId": "cd865c90-a7e8-44c4-deef-d19bd5076acb"
      },
      "execution_count": 1,
      "outputs": [
        {
          "output_type": "stream",
          "name": "stdout",
          "text": [
            "Area: 200\n",
            "Perimeter: 60\n"
          ]
        }
      ]
    }
  ]
}